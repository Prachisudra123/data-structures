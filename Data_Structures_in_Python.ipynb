{
  "nbformat": 4,
  "nbformat_minor": 0,
  "metadata": {
    "colab": {
      "provenance": []
    },
    "kernelspec": {
      "name": "python3",
      "display_name": "Python 3"
    },
    "language_info": {
      "name": "python"
    }
  },
  "cells": [
    {
      "cell_type": "markdown",
      "source": [
        "# Data Structures in Python"
      ],
      "metadata": {
        "id": "usoRs-xAtYJK"
      }
    },
    {
      "cell_type": "markdown",
      "source": [
        "1. What are data structures, and why are they important?\n",
        "-> Data structures are ways of organizing and storing data so that it can be accessed and modified efficiently. They are essential for writing clean, optimized, and scalable programs.\n",
        "- they are important because:-\n",
        "1.  Better performance\n",
        "2. Clean code\n",
        "3. Better Algorithms"
      ],
      "metadata": {
        "id": "eJUo94znthG9"
      }
    },
    {
      "cell_type": "markdown",
      "source": [
        "2. Explain the difference between mutable and immutable data types with examples.\n",
        "-> Mutable Data Types refer to those that can be changed after creation — means you can update, add, or remove elements without creating a new object."
      ],
      "metadata": {
        "id": "bdE0g5rX3MWt"
      }
    },
    {
      "cell_type": "code",
      "execution_count": null,
      "metadata": {
        "id": "k62crRr5ssYf"
      },
      "outputs": [],
      "source": [
        "# example of mutable\n",
        "# List (Mutable)\n",
        "my_list = [1, 2, 3]\n",
        "my_list[0] = 10\n",
        "my_list.append(4)\n",
        "print(my_list)\n",
        "\n",
        "# Dictionary (Mutable)\n",
        "my_dict = {'a': 1}\n",
        "my_dict['b'] = 2\n",
        "print(my_dict)\n"
      ]
    },
    {
      "cell_type": "markdown",
      "source": [
        "-> Immutable Data Types refer to those that cannot be changed after creation. Any changes require creating a new object in memory."
      ],
      "metadata": {
        "id": "LyykECZD4IJp"
      }
    },
    {
      "cell_type": "code",
      "source": [
        "# example of immutable\n",
        "# String (Immutable)\n",
        "name = \"Alice\"\n",
        "name = name + \" Smith\"\n",
        "print(name)\n",
        "\n",
        "# Tuple (Immutable)\n",
        "point = (3, 4)\n",
        "# point[0] = 10\n"
      ],
      "metadata": {
        "id": "916R7sPw4nvF"
      },
      "execution_count": null,
      "outputs": []
    },
    {
      "cell_type": "markdown",
      "source": [
        "3. What are the main differences between lists and tuples in Python?\n",
        "->Lists:- Lists are mutable, meaning you can change, add, or remove items. They use square brackets like [1, 2, 3].\n",
        "- Tuples are immutable, meaning you cannot change them after creation. They use parentheses like (1, 2, 3)."
      ],
      "metadata": {
        "id": "FxQSXWc249id"
      }
    },
    {
      "cell_type": "markdown",
      "source": [
        "4. Describe how dictionaries store data.\n",
        "-> Dictionaries are implemented using a hash table.How it works:\n",
        "\n",
        "- Key is hashed: When you insert a key, Python runs a hash function on it to generate a hash value (an integer).\n",
        "\n",
        "- Hash maps to index: That hash determines where the value will be stored in memory.\n",
        "\n",
        "- Value is stored: The value is placed at the calculated index, paired with the key."
      ],
      "metadata": {
        "id": "yB1pyJdq6Pvv"
      }
    },
    {
      "cell_type": "markdown",
      "source": [
        "5. Why might you use a set instead of a list in Python?\n",
        "-> 1. To Store Unique Values:- A set automatically removes duplicates.\n",
        "-> 2. Faster Lookup:-Checking if a value exists in a set is faster than in a list.\n",
        "-> 3.Useful for Set Operations:-Sets support math-like operations."
      ],
      "metadata": {
        "id": "X55nQNqY8mzW"
      }
    },
    {
      "cell_type": "markdown",
      "source": [
        "6. What is a string in Python, and how is it different from a list?\n",
        "-> A string in Python is a sequence of characters, and it cannot be changed.\n",
        "-> A list is a sequence of items, which can be numbers, strings, or even other lists, and a list can hold many types of data and can be changed."
      ],
      "metadata": {
        "id": "IpWYNms8-Vxb"
      }
    },
    {
      "cell_type": "markdown",
      "source": [
        "7.  How do tuples ensure data integrity in Python?\n",
        "\n",
        "->Tuples ensure data integrity in Python because they are immutable, meaning their elements cannot be changed, added to, or removed after the tuple is created.\n",
        "- how it helps:-\n",
        "1. Improves code safety.\n",
        "2. Reliable as dictionary keys"
      ],
      "metadata": {
        "id": "09ySQtEJ_zeU"
      }
    },
    {
      "cell_type": "markdown",
      "source": [
        "8. What is a hash table, and how does it relate to dictionaries in Python?\n",
        "-> A hash table is a way to store data using key-value pairs where each key is quickly turned into a number (index) using a hash function. This helps find data very fast.\n",
        "-  So when we use a dictionary like my_dict[\"name\"], Python uses a hash table to quickly find the value for the key \"name\".   "
      ],
      "metadata": {
        "id": "UbdENcBTBOtb"
      }
    },
    {
      "cell_type": "code",
      "source": [
        "# example\n",
        "my_dict = {\"name\": \"Alice\", \"age\": 25}\n",
        "print(my_dict[\"name\"])\n"
      ],
      "metadata": {
        "id": "uQGgiW0CCJYp"
      },
      "execution_count": null,
      "outputs": []
    },
    {
      "cell_type": "markdown",
      "source": [
        "9. Can lists contain different data types in Python?\n",
        "->Yes, lists can contain different data types in Python."
      ],
      "metadata": {
        "id": "AnmNRGBACOhG"
      }
    },
    {
      "cell_type": "markdown",
      "source": [
        "10. Explain why strings are immutable in Python.\n",
        "-> Strings are immutable in Python because once a string is created, it cannot be changed.\n",
        "- String objects in memory can be reused, which saves memory and improves performance.\n"
      ],
      "metadata": {
        "id": "wQ2oMEqDClMN"
      }
    },
    {
      "cell_type": "markdown",
      "source": [
        "11.What advantages do dictionaries offer over lists for certain tasks?\n",
        "-> 1. Fast Lookup\n",
        "- 2.Key-Value Pairing\n",
        "- 3.No Need to Remember Indexes\n",
        "- 4.Better for Structured Data"
      ],
      "metadata": {
        "id": "0ksvr0fwDYz0"
      }
    },
    {
      "cell_type": "markdown",
      "source": [
        "12. Describe a scenario where using a tuple would be preferable over a list.\n",
        "->\n",
        "1. Returning multiple values from a function.\n",
        "\n",
        "2. Using values as keys in a dictionary (tuples can be keys; lists can't).\n",
        "\n",
        "3. Storing configuration values that shouldn’t be modified."
      ],
      "metadata": {
        "id": "aRL4ejIhE0Zb"
      }
    },
    {
      "cell_type": "markdown",
      "source": [
        "13. How do sets handle duplicate values in Python?\n",
        "-> In Python, sets automatically remove duplicate values.\n",
        "- A set only keeps unique items, no matter how many duplicates you try to add."
      ],
      "metadata": {
        "id": "F7X68kqXFv9g"
      }
    },
    {
      "cell_type": "markdown",
      "source": [
        "14. How does the “in” keyword work differently for lists and dictionaries?\n",
        "-> The in keyword is used to check if something exists — but it works differently for lists and dictionaries in Python.\n",
        "- For lists:-\n",
        "-> checks if a value is present in the list.\n",
        "- For dictionaries:-\n",
        "-> in checks if a key is present — not the value."
      ],
      "metadata": {
        "id": "5mxaVuNlF9bj"
      }
    },
    {
      "cell_type": "markdown",
      "source": [
        "15. Can you modify the elements of a tuple? Explain why or why not?\n",
        "-> No, you cannot modify the elements of a tuple in Python.\n",
        "- Why not?\n",
        "Because tuples are immutable, meaning once they are created, their elements cannot be changed, added to, or removed.\n",
        " - Why is this useful?\n",
        " 1. It improves performance and reliability in your code.\n",
        " 2. It helps protect data from accidental changes.\n",
        "\n"
      ],
      "metadata": {
        "id": "1SFobvC8Gz2S"
      }
    },
    {
      "cell_type": "markdown",
      "source": [
        "16.What is a nested dictionary, and give an example of its use case?\n",
        "-> A nested dictionary is a dictionary inside another dictionary.\n",
        "- It allows you to organize complex data in a structured, hierarchical way.\n",
        "Use Case:\n",
        "Storing data for multiple entities, where each entity has multiple properties.\n",
        "- Student records (ID → student info)\n",
        "\n",
        "Employee database (ID → details like name, salary)"
      ],
      "metadata": {
        "id": "V7qVbsoOH6Lj"
      }
    },
    {
      "cell_type": "markdown",
      "source": [
        "17. Describe the time complexity of accessing elements in a dictionary ?\n",
        "-> Average case: O(1)\n",
        "Accessing an element by key is very fast because dictionaries use a hash table internally. The key is hashed to find the value's location directly.\n",
        "\n",
        "Worst case: O(n)\n",
        "This can happen rarely if many keys hash to the same location (called a collision), but Python handles this efficiently using collision resolution methods.\n",
        "\n"
      ],
      "metadata": {
        "id": "dUI7x-OfZYbw"
      }
    },
    {
      "cell_type": "markdown",
      "source": [
        "18. In what situations are lists preferred over dictionaries ?\n",
        "->\n",
        "- 1. Order and Sequence Matter:- When you need to store items in a specific order and access them by position (index).\n",
        "- 2.Lists allow duplicate values, whereas dictionary keys must be unique.\n",
        "-  3.If the data is just a collection of items without labels or unique identifiers, a list is simpler and more appropriate.\n",
        "- 4. Lists support operations like sorting, slicing, and appending, which are useful for ordered collections.\n",
        "\n",
        "\n"
      ],
      "metadata": {
        "id": "GdnuwObvZ-VG"
      }
    },
    {
      "cell_type": "markdown",
      "source": [
        "19. Why are dictionaries considered unordered, and how does that affect data retrieval?\n",
        "-> Dictionaries are considered unordered because they don’t store items in a fixed order.\n"
      ],
      "metadata": {
        "id": "TLXqwnndaYn1"
      }
    },
    {
      "cell_type": "markdown",
      "source": [
        "20.Explain the difference between a list and a dictionary in terms of data retrieval.\n",
        "->\n",
        "- List:-\n",
        "1.it can be accessed by index.\n",
        "2.Syntax\tmy_list[0].\n",
        "3. Searching speed is slower (O(n)).\n",
        "4.Values can repeat.\n",
        "\n",
        "->\n",
        "- \tDictionary:-\n",
        "1.It can be accessed by key (label or name).\n",
        "2.Syntax my_dict[\"name\"]\n",
        "3.Very fast searching (O(1) average).\n",
        "4.Keys must be unique."
      ],
      "metadata": {
        "id": "IYgGJcHwc0qf"
      }
    },
    {
      "cell_type": "markdown",
      "source": [
        "**Practical Questions**"
      ],
      "metadata": {
        "id": "bcHzRHE-eHbu"
      }
    },
    {
      "cell_type": "code",
      "source": [
        "1. Write a code to create a string with your name and print it.\n",
        "\n",
        "-> # Create a string with your name\n",
        "my_name = \"Prachi Sudra\"\n",
        "\n",
        "# Print the string\n",
        "print(\"My name is:\", my_name)\n",
        " - Output:-\n",
        " My name is: Prachi Sudra\n"
      ],
      "metadata": {
        "id": "BDTFoIpPeUfL"
      },
      "execution_count": null,
      "outputs": []
    },
    {
      "cell_type": "code",
      "source": [
        "2. Write a code to find the length of the string \"Hello World\".\n",
        "\n",
        "-> # Define the string\n",
        "text = \"Hello World\"\n",
        "\n",
        "length = len(text)\n",
        "\n",
        "# Print the length\n",
        "print(\"Length of the string is:\", length)\n",
        "\n",
        "- Output:-\n",
        "Length of the string is: 11\n",
        "\n"
      ],
      "metadata": {
        "id": "voCPQvKJebeY"
      },
      "execution_count": null,
      "outputs": []
    },
    {
      "cell_type": "code",
      "source": [
        "3. Write a code to slice the first 3 characters from the string \"Python Programming\"?\n",
        "\n",
        "-> # Define the string\n",
        "text = \"Python Programming\"\n",
        "\n",
        "# Slice the first 3 characters\n",
        "sliced_text = text[:3]\n",
        "\n",
        "# Print the result\n",
        "print(\"First 3 characters:\", sliced_text)\n",
        "\n",
        "- Output:-\n",
        "First 3 characters: Pyt\n",
        "\n"
      ],
      "metadata": {
        "id": "W-zdC-0XfOGp"
      },
      "execution_count": null,
      "outputs": []
    },
    {
      "cell_type": "code",
      "source": [
        "4. Write a code to convert the string \"hello\" to uppercase.\n",
        "\n",
        "-> # Defining the string\n",
        "text = \"hello\"\n",
        "\n",
        "# Converting to uppercase\n",
        "upper_text = text.upper()\n",
        "\n",
        "# Print the result\n",
        "print(\"Uppercase:\", upper_text)\n",
        " - Output:-\n",
        " Uppercase: HELLO\n"
      ],
      "metadata": {
        "id": "HyU9MEWDfqZg"
      },
      "execution_count": null,
      "outputs": []
    },
    {
      "cell_type": "code",
      "source": [
        "5. Write a code to replace the word \"apple\" with \"orange\" in the string \"I like apple\".\n",
        "\n",
        "->\n",
        " # Defining the string\n",
        "text = \"I like apple\"\n",
        "\n",
        "# Replacing \"apple\" with \"orange\"\n",
        "new_text = text.replace(\"apple\", \"orange\")\n",
        "\n",
        "# Printing the result\n",
        "print(\"Updated string:\", new_text)\n",
        "\n",
        "- Output:-\n",
        "Updated string: I like orange\n",
        "\n"
      ],
      "metadata": {
        "id": "ter4Tw_Uf-aB"
      },
      "execution_count": null,
      "outputs": []
    },
    {
      "cell_type": "code",
      "source": [
        "6. Write a code to create a list with numbers 1 to 5 and print it.\n",
        "\n",
        "->\n",
        "# Creating a list with numbers 1 to 5\n",
        "numbers = [1, 2, 3, 4, 5]\n",
        "\n",
        "# Printing the list\n",
        "print(\"List of numbers:\", numbers)\n",
        "\n",
        "- Output:-\n",
        "List of numbers: [1, 2, 3, 4, 5]\n",
        "\n",
        "\n"
      ],
      "metadata": {
        "id": "fLc_24j3gWTi"
      },
      "execution_count": null,
      "outputs": []
    },
    {
      "cell_type": "code",
      "source": [
        "7. Write a code to append the number 10 to the list [1, 2, 3, 4].\n",
        "\n",
        "->\n",
        "# Defining the list\n",
        "numbers = [1, 2, 3, 4]\n",
        "\n",
        "# Append the number 10\n",
        "numbers.append(10)\n",
        "\n",
        "# Printing the updated list\n",
        "print(\"Updated list:\", numbers)\n",
        "\n",
        "- Output:-\n",
        "Updated list: [1, 2, 3, 4, 10]\n",
        "\n",
        "\n"
      ],
      "metadata": {
        "id": "7LTawVmwgo_y"
      },
      "execution_count": null,
      "outputs": []
    },
    {
      "cell_type": "code",
      "source": [
        "8. Write a code to remove the number 3 from the list [1, 2, 3, 4, 5].\n",
        "->\n",
        "numbers = [1, 2, 3, 4, 5]\n",
        "numbers.remove(3)\n",
        "print(numbers)\n",
        " - Output:-\n",
        " [1, 2, 4, 5]\n"
      ],
      "metadata": {
        "id": "n8wCWJBule4m"
      },
      "execution_count": null,
      "outputs": []
    },
    {
      "cell_type": "code",
      "source": [
        "9. Write a code to access the second element in the list ['a', 'b', 'c', 'd']\n",
        " -> # Define the list\n",
        "my_list = ['a', 'b', 'c', 'd']\n",
        "\n",
        "# Access the second element (which is at index 1)\n",
        "second_element = my_list[1]\n",
        "\n",
        "# Print the second element\n",
        "print(\"The second element is:\", second_element)\n",
        "-Output:-\n",
        "b"
      ],
      "metadata": {
        "id": "-aWQoj-Slp__"
      },
      "execution_count": null,
      "outputs": []
    },
    {
      "cell_type": "code",
      "source": [
        "10. Write a code to reverse the list [10, 20, 30, 40, 50]\n",
        "\n",
        "-> using .reverse() method\n",
        " numbers = [10, 20, 30, 40, 50]\n",
        "numbers.reverse()\n",
        "print(numbers)\n",
        "\n",
        "- Output:-\n",
        "[50, 40, 30, 20, 10]\n",
        "\n"
      ],
      "metadata": {
        "id": "-L3ozCxRmYK3"
      },
      "execution_count": null,
      "outputs": []
    },
    {
      "cell_type": "code",
      "source": [
        "11. Write a code to create a tuple with the elements 100, 200, 300, and print it.\n",
        "\n",
        "-> my_tuple = (100, 200, 300)\n",
        "print(my_tuple)\n",
        "- Output:-\n",
        "(100, 200, 300)"
      ],
      "metadata": {
        "id": "sEkjIy16nBzY"
      },
      "execution_count": null,
      "outputs": []
    },
    {
      "cell_type": "code",
      "source": [
        "12.  Write a code to access the second-to-last element of the tuple ('red', 'green', 'blue', 'yellow').\n",
        "\n",
        "->\n",
        "# Define the tuple named 'colors'.\n",
        "colors = ('red', 'green', 'blue', 'yellow')\n",
        "second_to_last = colors[-2]\n",
        "# Print the accessed element to the console.\n",
        "print(second_to_last)\n",
        "\n",
        "-  Output:-\n",
        "blue"
      ],
      "metadata": {
        "id": "hxxXw1tLnnWW"
      },
      "execution_count": null,
      "outputs": []
    },
    {
      "cell_type": "code",
      "source": [
        "13. Write a code to find the minimum number in the tuple (10, 20, 5, 15).\n",
        "\n",
        "->\n",
        "# Define the tuple named 'numbers'.\n",
        "numbers = (10, 20, 5, 15)\n",
        "\n",
        "minimum_number = min(numbers)\n",
        "\n",
        "# Print the minimum number\n",
        "print(minimum_number)\n",
        "- Output:-\n",
        "5\n"
      ],
      "metadata": {
        "id": "8xNtrr5KnpTx"
      },
      "execution_count": null,
      "outputs": []
    },
    {
      "cell_type": "code",
      "source": [
        "14. Write a code to find the index of the element \"cat\" in the tuple ('dog', 'cat', 'rabbit').\n",
        "\n",
        "-> # Define the tuple named 'animals'\n",
        "animals = ('dog', 'cat', 'rabbit')\n",
        "index_of_cat = animals.index(\"cat\")\n",
        "\n",
        "# Print the found index\n",
        "print(index_of_cat)\n",
        "- Output:-\n",
        "1\n"
      ],
      "metadata": {
        "id": "2HJIAJ_enwV3"
      },
      "execution_count": null,
      "outputs": []
    },
    {
      "cell_type": "code",
      "source": [
        "15. Write a code to create a tuple containing three different fruits and check if \"kiwi\" is in it.\n",
        "\n",
        "->\n",
        "# Create a tuple named 'fruits' containing three different fruits.\n",
        "fruits = ('apple', 'banana', 'orange')\n",
        "\n",
        "is_kiwi_in_tuple = \"kiwi\" in fruits\n",
        "\n",
        "print(is_kiwi_in_tuple)\n",
        "- Output:-\n",
        "False\n"
      ],
      "metadata": {
        "id": "l-3iE0Zyp0S3"
      },
      "execution_count": null,
      "outputs": []
    },
    {
      "cell_type": "code",
      "source": [
        "16. Write a code to create a set with the elements 'a', 'b', 'c' and print it\n",
        "\n",
        "->\n",
        "my_set = {'a', 'b', 'c'}\n",
        "print(my_set)\n",
        "\n",
        "- Output:-\n",
        "{'a', 'b', 'c'}"
      ],
      "metadata": {
        "id": "hFFBdbBTqbtG"
      },
      "execution_count": null,
      "outputs": []
    },
    {
      "cell_type": "code",
      "source": [
        "17. Write a code to clear all elements from the set {1, 2, 3, 4, 5}.\n",
        "->\n",
        "# Create a set with initial elements.\n",
        "my_set = {1, 2, 3, 4, 5}\n",
        "\n",
        "# Use the clear() method to remove all elements from the set.\n",
        "my_set.clear()\n",
        "\n",
        "# Print the set after clearing to verify that it is empty.\n",
        "print(\"Set after clearing:\", my_set)\n",
        "\n",
        "- Output:-\n",
        "Set after clearing:"
      ],
      "metadata": {
        "id": "j6TqHGZyqt9X"
      },
      "execution_count": null,
      "outputs": []
    },
    {
      "cell_type": "code",
      "source": [
        "18. Write a code to remove the element 4 from the set {1, 2, 3, 4}.\n",
        "->\n",
        "# Create a set with the elements 1, 2, 3, and 4.\n",
        "my_set = {1, 2, 3, 4}\n",
        "\n",
        "# Remove the element 4 from the set.\n",
        "my_set.remove(4)\n",
        "\n",
        "# Print the set after the element has been removed.\n",
        "print(my_set)\n",
        "- Output:-\n",
        "{1, 2, 3}\n"
      ],
      "metadata": {
        "id": "szmtRY-1r2nY"
      },
      "execution_count": null,
      "outputs": []
    },
    {
      "cell_type": "code",
      "source": [
        "19. Write a code to find the union of two sets {1, 2, 3} and {3, 4, 5}.\n",
        "->\n",
        "# Define two sets\n",
        "set1 = {1, 2, 3}\n",
        "set2 = {3, 4, 5}\n",
        "\n",
        "# Find the union of the two sets\n",
        "union_set = set1.union(set2)\n",
        "\n",
        "# Print the result\n",
        "print(union_set)\n",
        "- Output:-\n",
        "{1, 2, 3, 4, 5}\n",
        "\n"
      ],
      "metadata": {
        "id": "41WhTyXXtBSi"
      },
      "execution_count": null,
      "outputs": []
    },
    {
      "cell_type": "code",
      "source": [
        "20. Write a code to find the intersection of two sets {1, 2, 3} and {2, 3, 4}.\n",
        "\n",
        "-># Define two sets\n",
        "set1 = {1, 2, 3}\n",
        "set2 = {2, 3, 4}\n",
        "\n",
        "# Find the intersection of the two sets\n",
        "intersection_set = set1.intersection(set2)\n",
        "\n",
        "# Print the result\n",
        "print(intersection_set)\n",
        "- Output:-\n",
        "{2, 3}\n"
      ],
      "metadata": {
        "id": "otIyGXXetaGy"
      },
      "execution_count": null,
      "outputs": []
    },
    {
      "cell_type": "code",
      "source": [
        "21. Write a code to create a dictionary with the keys \"name\", \"age\", and \"city\", and print it.\n",
        "\n",
        "-> # Create a dictionary\n",
        "person = {\n",
        "    \"name\": \"Alice\",\n",
        "    \"age\": 25,\n",
        "    \"city\": \"New York\"\n",
        "}\n",
        "\n",
        "# Print the dictionary\n",
        "print(person)\n",
        "- Output:-\n",
        "{'name': 'Alice', 'age': 25, 'city': 'New York'}\n",
        "\n"
      ],
      "metadata": {
        "id": "H2DLeRuiu92h"
      },
      "execution_count": null,
      "outputs": []
    },
    {
      "cell_type": "code",
      "source": [
        "22.  Write a code to add a new key-value pair \"country\": \"USA\" to the dictionary {'name': 'John', 'age': 25}.\n",
        "\n",
        "-> # Original dictionary\n",
        "person = {'name': 'John', 'age': 25}\n",
        "\n",
        "# Add new key-value pair\n",
        "person['country'] = 'USA'\n",
        "\n",
        "# Print the updated dictionary\n",
        "print(person)\n",
        "- Output:-\n",
        "{'name': 'John', 'age': 25, 'country': 'USA'}"
      ],
      "metadata": {
        "id": "kk9YINE4vSsS"
      },
      "execution_count": null,
      "outputs": []
    },
    {
      "cell_type": "code",
      "source": [
        "23. Write a code to access the value associated with the key \"name\" in the dictionary {'name': 'Alice', 'age': 30}\n",
        "\n",
        "-> # Define the dictionary\n",
        "person = {'name': 'Alice', 'age': 30}\n",
        "\n",
        "# Access the value for the key \"name\"\n",
        "name_value = person['name']\n",
        "\n",
        "# Print the value\n",
        "print(name_value)\n",
        "- Output:-\n",
        "Alice"
      ],
      "metadata": {
        "id": "LhJeGRajvky8"
      },
      "execution_count": null,
      "outputs": []
    },
    {
      "cell_type": "code",
      "source": [
        "24. Write a code to remove the key \"age\" from the dictionary {'name': 'Bob', 'age': 22, 'city': 'New York'}.clear\n",
        "\n",
        "-># Define the dictionary\n",
        "person = {'name': 'Bob', 'age': 22, 'city': 'New York'}\n",
        "\n",
        "# Remove the key \"age\"\n",
        "del person['age']\n",
        "\n",
        "# Print the updated dictionary\n",
        "print(person)\n",
        "- Output:-\n",
        "{'name': 'Bob', 'city': 'New York'}\n",
        "\n"
      ],
      "metadata": {
        "id": "gmxmnWNgv-rN"
      },
      "execution_count": null,
      "outputs": []
    },
    {
      "cell_type": "code",
      "source": [
        "25. Write a code to check if the key \"city\" exists in the dictionary {'name': 'Alice', 'city': 'Paris'}.\n",
        "\n",
        "-># Create the dictionary.\n",
        "person = {'name': 'Alice', 'city': 'Paris'}\n",
        "\n",
        "# Check if the key \"city\" exists in the dictionary.\n",
        "does_city_exist = \"city\" in person\n",
        "\n",
        "print(does_city_exist)\n",
        "- Output:-\n",
        "True"
      ],
      "metadata": {
        "id": "S3888rbzwjFf"
      },
      "execution_count": null,
      "outputs": []
    },
    {
      "cell_type": "code",
      "source": [
        "26. Write a code to create a list, a tuple, and a dictionary, and print them all.\n",
        "\n",
        "-># Create a list\n",
        "my_list = [1, 2, 3, 4]\n",
        "\n",
        "# Create a tuple\n",
        "my_tuple = ('apple', 'banana', 'cherry')\n",
        "\n",
        "# Create a dictionary\n",
        "my_dict = {'name': 'Alice', 'age': 25}\n",
        "\n",
        "# Print all\n",
        "print(\"List:\", my_list)\n",
        "print(\"Tuple:\", my_tuple)\n",
        "print(\"Dictionary:\", my_dict)\n",
        "- Output:-\n",
        "List: [1, 2, 3, 4]\n",
        "Tuple: ('apple', 'banana', 'cherry')\n",
        "Dictionary: {'name': 'Alice', 'age': 25}"
      ],
      "metadata": {
        "id": "To2V51YVw8If"
      },
      "execution_count": null,
      "outputs": []
    },
    {
      "cell_type": "code",
      "source": [
        "27. Write a code to create a list of 5 random numbers between 1 and 100, sort it in ascending order, and print the result.(replaced).\n",
        "\n",
        "\n",
        "\n",
        "-> import random\n",
        "\n",
        "# Create a list of 5 random numbers between 1 and 100\n",
        "random_numbers = random.sample(range(1, 101), 5)\n",
        "\n",
        "# Sort the list in ascending order\n",
        "random_numbers.sort()\n",
        "\n",
        "# Print the sorted list\n",
        "print(\"Sorted random numbers:\", random_numbers)\n",
        "- Output:-\n",
        "Sorted random numbers: [7, 29, 43, 76, 88]"
      ],
      "metadata": {
        "id": "4KVatxg4xWyL"
      },
      "execution_count": null,
      "outputs": []
    },
    {
      "cell_type": "code",
      "source": [
        "28.  Write a code to create a list with strings and print the element at the third index.and\n",
        "\n",
        "-># Create a list with strings\n",
        "my_list = ['apple', 'banana', 'cherry', 'date', 'fig']\n",
        "\n",
        "# Print the element at the third index (index 3)\n",
        "print(\"Element at index 3:\", my_list[3])\n",
        "- Output:-\n",
        "Element at index 3: date\n"
      ],
      "metadata": {
        "id": "Ptl_FpXuyFhh"
      },
      "execution_count": null,
      "outputs": []
    },
    {
      "cell_type": "code",
      "source": [
        "29. Write a code to combine two dictionaries into one and print the result.\n",
        "\n",
        "-># Define two dictionaries\n",
        "dict1 = {'name': 'Alice', 'age': 25}\n",
        "dict2 = {'city': 'Paris', 'country': 'France'}\n",
        "\n",
        "# Combine the dictionaries\n",
        "combined_dict = {**dict1, **dict2}\n",
        "\n",
        "# Print the result\n",
        "print(\"Combined dictionary:\", combined_dict)\n",
        "\n",
        "- output:-\n",
        "Combined dictionary: {'name': 'Alice', 'age': 25, 'city': 'Paris', 'country': 'France'}\n"
      ],
      "metadata": {
        "id": "fLizcplIyhTb"
      },
      "execution_count": null,
      "outputs": []
    },
    {
      "cell_type": "code",
      "source": [
        "30. Write a code to convert a list of strings into a set.\n",
        "\n",
        "-># Create a list of strings\n",
        "my_list = ['apple', 'banana', 'cherry', 'apple']\n",
        "\n",
        "# Convert the list to a set\n",
        "my_set = set(my_list)\n",
        "\n",
        "# Print the set\n",
        "print(\"Set:\", my_set)\n",
        "\n",
        "- Output:-\n",
        "Set: {'apple', 'banana', 'cherry'}\n"
      ],
      "metadata": {
        "id": "Evj97BgqzcaD"
      },
      "execution_count": null,
      "outputs": []
    }
  ]
}